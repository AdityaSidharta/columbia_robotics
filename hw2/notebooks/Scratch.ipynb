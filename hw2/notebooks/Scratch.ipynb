{
 "cells": [
  {
   "cell_type": "code",
   "execution_count": 1,
   "id": "a36537ac",
   "metadata": {},
   "outputs": [
    {
     "name": "stdout",
     "output_type": "stream",
     "text": [
      "/home/aditya/git/columbia_robotics/hw2\n"
     ]
    }
   ],
   "source": [
    "%cd /home/aditya/git/columbia_robotics/hw2"
   ]
  },
  {
   "cell_type": "code",
   "execution_count": 2,
   "id": "4916934e",
   "metadata": {},
   "outputs": [],
   "source": [
    "import os\n",
    "\n",
    "import matplotlib.pyplot as plt\n",
    "import numpy as np\n",
    "import torch\n",
    "from torch.utils.data import DataLoader\n",
    "\n",
    "import image\n",
    "from dataset import RGBDataset\n",
    "from model import MiniUNet\n",
    "from segmentation_helper import check_dataset, check_dataloader, show_mask"
   ]
  },
  {
   "cell_type": "code",
   "execution_count": 3,
   "id": "bc182133",
   "metadata": {},
   "outputs": [],
   "source": [
    "from segmentation import *"
   ]
  },
  {
   "cell_type": "code",
   "execution_count": 4,
   "id": "afcc305f",
   "metadata": {},
   "outputs": [
    {
     "name": "stdout",
     "output_type": "stream",
     "text": [
      "device: cpu\n"
     ]
    }
   ],
   "source": [
    "device = torch.device(\"cuda\" if torch.cuda.is_available() else \"cpu\")\n",
    "print(\"device:\", device)"
   ]
  },
  {
   "cell_type": "code",
   "execution_count": 5,
   "id": "c3b883b5",
   "metadata": {},
   "outputs": [],
   "source": [
    "# Define directories\n",
    "root_dir = './dataset/'\n",
    "train_dir = root_dir + 'train/'\n",
    "val_dir = root_dir + 'val/'\n",
    "test_dir = root_dir + 'test/'\n"
   ]
  },
  {
   "cell_type": "code",
   "execution_count": 6,
   "id": "1344e8a0",
   "metadata": {},
   "outputs": [],
   "source": [
    "# TODO: Create Datasets. You can use check_dataset(your_dataset) to check your implementation.\n",
    "train_dataset = RGBDataset(train_dir, True)\n",
    "val_dataset = RGBDataset(val_dir, True)\n",
    "test_dataset = RGBDataset(test_dir, False)\n",
    "\n",
    "# TODO: Prepare Dataloaders. Only shuffle the training set. You can use check_dataloader(your_dataloader) to check your implementation.\n",
    "train_loader = DataLoader(train_dataset, batch_size=4,\n",
    "                          shuffle=True, num_workers=0)\n",
    "val_loader = DataLoader(val_dataset, batch_size=4,\n",
    "                        shuffle=False, num_workers=0)\n",
    "test_loader = DataLoader(test_dataset, batch_size=4,\n",
    "                         shuffle=False, num_workers=0)\n"
   ]
  },
  {
   "cell_type": "code",
   "execution_count": 7,
   "id": "42d4a1ab",
   "metadata": {},
   "outputs": [],
   "source": [
    "# TODO: Prepare model\n",
    "model = MiniUNet()\n",
    "\n",
    "# TODO: Define criterion and optimizer\n",
    "criterion = torch.nn.CrossEntropyLoss(reduction='none')\n",
    "optimizer = torch.optim.Adam(model.parameters(), lr=0.0001)"
   ]
  },
  {
   "cell_type": "code",
   "execution_count": 8,
   "id": "20b509af",
   "metadata": {},
   "outputs": [],
   "source": [
    "train_loss_list, train_miou_list, val_loss_list, val_miou_list = list(), list(), list(), list()\n",
    "epoch, max_epochs = 1, 3  # TODO: you may want to make changes here\n",
    "best_miou = float('-inf')"
   ]
  },
  {
   "cell_type": "code",
   "execution_count": null,
   "id": "dad0d641",
   "metadata": {},
   "outputs": [
    {
     "name": "stdout",
     "output_type": "stream",
     "text": [
      "Epoch ( 1 / 3 )\n"
     ]
    },
    {
     "name": "stderr",
     "output_type": "stream",
     "text": [
      "/home/aditya/git/columbia_robotics/hw2/venv_hw2/lib/python3.7/site-packages/numpy/core/fromnumeric.py:3335: RuntimeWarning: Mean of empty slice.\n",
      "  out=out, **kwargs)\n",
      "/home/aditya/git/columbia_robotics/hw2/venv_hw2/lib/python3.7/site-packages/numpy/core/_methods.py:161: RuntimeWarning: invalid value encountered in double_scalars\n",
      "  ret = ret.dtype.type(ret / rcount)\n"
     ]
    },
    {
     "name": "stdout",
     "output_type": "stream",
     "text": [
      "Train loss & mIoU: 0.55 0.00\n",
      "Validation loss & mIoU: 0.00 0.00\n",
      "---------------------------------\n",
      "checkpoint saved at epoch 1\n",
      "Epoch ( 2 / 3 )\n"
     ]
    }
   ],
   "source": [
    "while epoch <= max_epochs:\n",
    "    print('Epoch (', epoch, '/', max_epochs, ')')\n",
    "    train_loss, train_miou = train(model, device, train_loader, criterion, optimizer)\n",
    "    val_loss, val_miou = val(model, device, val_loader, criterion)\n",
    "    train_loss_list.append(train_loss)\n",
    "    train_miou_list.append(train_miou)\n",
    "    val_loss_list.append(val_loss)\n",
    "    val_miou_list.append(val_miou)\n",
    "    print('Train loss & mIoU: %0.2f %0.2f' % (train_loss, train_miou))\n",
    "    print('Validation loss & mIoU: %0.2f %0.2f' % (val_loss, val_miou))\n",
    "    print('---------------------------------')\n",
    "    if val_miou > best_miou:\n",
    "        best_miou = val_miou\n",
    "        save_chkpt(model, epoch, val_miou)\n",
    "    epoch += 1\n"
   ]
  },
  {
   "cell_type": "code",
   "execution_count": null,
   "id": "915feb53",
   "metadata": {},
   "outputs": [],
   "source": []
  }
 ],
 "metadata": {
  "kernelspec": {
   "display_name": "hw2",
   "language": "python",
   "name": "hw2"
  },
  "language_info": {
   "codemirror_mode": {
    "name": "ipython",
    "version": 3
   },
   "file_extension": ".py",
   "mimetype": "text/x-python",
   "name": "python",
   "nbconvert_exporter": "python",
   "pygments_lexer": "ipython3",
   "version": "3.7.2"
  }
 },
 "nbformat": 4,
 "nbformat_minor": 5
}
